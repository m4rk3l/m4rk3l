{
  "nbformat": 4,
  "nbformat_minor": 0,
  "metadata": {
    "colab": {
      "name": "Untitled0.ipynb",
      "provenance": []
    },
    "kernelspec": {
      "name": "python3",
      "display_name": "Python 3"
    },
    "language_info": {
      "name": "python"
    }
  },
  "cells": [
    {
      "cell_type": "code",
      "metadata": {
        "id": "9LLtU_sNIpBm"
      },
      "source": [
        "def common_unique_elements(list1, list2):\n",
        "    set1 = set(list1)\n",
        "    set2 = set(list2)\n",
        "    set1 = set1.intersection(set2)\n",
        "    return list(set1)"
      ],
      "execution_count": 1,
      "outputs": []
    },
    {
      "cell_type": "code",
      "metadata": {
        "id": "wAm8qe7qIrT8",
        "outputId": "a8e337c0-a9f3-46f6-c06c-af02ab409217",
        "colab": {
          "base_uri": "https://localhost:8080/"
        }
      },
      "source": [
        "list1 = ['qwe', 'qwer', 'qwerty', 'qwer', 'qwerty']\n",
        "list2 = ['qwe', 'qwer', 'qwerty', 'qwer', 'zxc', 'dfg']\n",
        "common_unique_elements(list1, list2)"
      ],
      "execution_count": 2,
      "outputs": [
        {
          "output_type": "execute_result",
          "data": {
            "text/plain": [
              "['qwer', 'qwe', 'qwerty']"
            ]
          },
          "metadata": {
            "tags": []
          },
          "execution_count": 2
        }
      ]
    }
  ]
}