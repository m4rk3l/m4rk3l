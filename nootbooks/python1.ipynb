{
 "metadata": {
  "language_info": {
   "codemirror_mode": {
    "name": "ipython",
    "version": 3
   },
   "file_extension": ".py",
   "mimetype": "text/x-python",
   "name": "python",
   "nbconvert_exporter": "python",
   "pygments_lexer": "ipython3",
   "version": "3.8.5-final"
  },
  "orig_nbformat": 2,
  "kernelspec": {
   "name": "python3",
   "display_name": "Python 3",
   "language": "python"
  }
 },
 "nbformat": 4,
 "nbformat_minor": 2,
 "cells": [
  {
   "cell_type": "code",
   "execution_count": 1,
   "metadata": {},
   "outputs": [],
   "source": [
    "def common_unique_elements(list1, list2):\n",
    "    set1 = set(list1)\n",
    "    set2 = set(list2)\n",
    "    set1 = set1.intersection(set2)\n",
    "    return list(set1)"
   ]
  },
  {
   "cell_type": "code",
   "execution_count": 2,
   "metadata": {},
   "outputs": [
    {
     "output_type": "execute_result",
     "data": {
      "text/plain": [
       "['qwe', 'qwerty', 'qwer']"
      ]
     },
     "metadata": {},
     "execution_count": 2
    }
   ],
   "source": [
    "list1 = ['qwe', 'qwer', 'qwerty', 'qwer', 'qwerty']\n",
    "list2 = ['qwe', 'qwer', 'qwerty', 'qwer', 'zxc', 'dfg']\n",
    "common_unique_elements(list1, list2)"
   ]
  }
 ]
}
